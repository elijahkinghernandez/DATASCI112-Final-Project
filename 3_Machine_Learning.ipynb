{
  "nbformat": 4,
  "nbformat_minor": 0,
  "metadata": {
    "colab": {
      "provenance": [],
      "authorship_tag": "ABX9TyNtHQJyzj72yaiCc8rPtBF2",
      "include_colab_link": true
    },
    "kernelspec": {
      "name": "python3",
      "display_name": "Python 3"
    },
    "language_info": {
      "name": "python"
    }
  },
  "cells": [
    {
      "cell_type": "markdown",
      "metadata": {
        "id": "view-in-github",
        "colab_type": "text"
      },
      "source": [
        "<a href=\"https://colab.research.google.com/github/elijahkinghernandez/DATASCI112-Final-Project/blob/main/3_Machine_Learning.ipynb\" target=\"_parent\"><img src=\"https://colab.research.google.com/assets/colab-badge.svg\" alt=\"Open In Colab\"/></a>"
      ]
    },
    {
      "cell_type": "code",
      "source": [
        "import pandas as pd"
      ],
      "metadata": {
        "id": "Wf7NYkXOhkzY"
      },
      "execution_count": 1,
      "outputs": []
    },
    {
      "cell_type": "code",
      "source": [
        "df_ml = pd.read_csv('/content/H117 - Final Project - df_ml')\n",
        "df_ml"
      ],
      "metadata": {
        "colab": {
          "base_uri": "https://localhost:8080/",
          "height": 1000
        },
        "id": "-czyCgtvjPjb",
        "outputId": "489bffe8-63c2-4b8e-9800-fd09b9485500"
      },
      "execution_count": 4,
      "outputs": [
        {
          "output_type": "execute_result",
          "data": {
            "text/plain": [
              "       rollnumber    icpsr cast_code   prob                   bioname  \\\n",
              "0               3  20104.0       yea  100.0              SCHIFF, Adam   \n",
              "1               4  20104.0       yea  100.0              SCHIFF, Adam   \n",
              "2               5  20104.0       yea  100.0              SCHIFF, Adam   \n",
              "3               6  20104.0       nay  100.0              SCHIFF, Adam   \n",
              "4               7  20104.0       yea  100.0              SCHIFF, Adam   \n",
              "...           ...      ...       ...    ...                       ...   \n",
              "14314         991  29903.0       yea  100.0  NAPOLITANO, Grace Flores   \n",
              "14315         992  29903.0       yea  100.0  NAPOLITANO, Grace Flores   \n",
              "14316         993  29903.0       yea   99.8  NAPOLITANO, Grace Flores   \n",
              "14317         994  29903.0       yea  100.0  NAPOLITANO, Grace Flores   \n",
              "14318         996  29903.0       yea   99.9  NAPOLITANO, Grace Flores   \n",
              "\n",
              "       district_code  party_code  age elected  economic lib-con  \\\n",
              "0                 28         100           60            -0.350   \n",
              "1                 28         100           60            -0.350   \n",
              "2                 28         100           60            -0.350   \n",
              "3                 28         100           60            -0.350   \n",
              "4                 28         100           60            -0.350   \n",
              "...              ...         ...          ...               ...   \n",
              "14314             32         100           84            -0.448   \n",
              "14315             32         100           84            -0.448   \n",
              "14316             32         100           84            -0.448   \n",
              "14317             32         100           84            -0.448   \n",
              "14318             32         100           84            -0.448   \n",
              "\n",
              "                                               vote_desc  \\\n",
              "0      Adopting the Rules of the House of Representat...   \n",
              "1      Adopting the Rules of the House of Representat...   \n",
              "2      Adopting the Rules of the House of Representat...   \n",
              "3      Adopting the Rules of the House of Representat...   \n",
              "4      Adopting the Rules of the House of Representat...   \n",
              "...                                                  ...   \n",
              "14314  Native American Langauge Resource Center Act o...   \n",
              "14315  Durbin Feeling Native American Languages Act o...   \n",
              "14316               Student Veteran Emergency Relief Act   \n",
              "14317  Providing for consideration of the Senate amen...   \n",
              "14318  To amend section 1115 of title 31, United Stat...   \n",
              "\n",
              "                                           vote_question  vote_result  \\\n",
              "0      On Motion to Table the Motion to Postpone to a...            1   \n",
              "1                                  Table Motion to Refer            1   \n",
              "2                      On Ordering the Previous Question            1   \n",
              "3                  On Motion to Commit with Instructions            0   \n",
              "4                          On Agreeing to the Resolution            1   \n",
              "...                                                  ...          ...   \n",
              "14314            On Motion to Suspend the Rules and Pass            1   \n",
              "14315            On Motion to Suspend the Rules and Pass            1   \n",
              "14316  On Motion to Suspend the Rules and Concur in t...            1   \n",
              "14317                      On Agreeing to the Resolution            1   \n",
              "14318  On Motion to Concur in the Senate Adt to the H...            1   \n",
              "\n",
              "             date  yea_count  nay_count  gender      race  immigrant  \n",
              "0      2021-01-04        214        204       1     white          0  \n",
              "1      2021-01-04        214        196       1     white          0  \n",
              "2      2021-01-04        217        204       1     white          0  \n",
              "3      2021-01-04        203        217       1     white          0  \n",
              "4      2021-01-04        217        206       1     white          0  \n",
              "...           ...        ...        ...     ...       ...        ...  \n",
              "14314  2022-12-22        342         71       0  hispanic          0  \n",
              "14315  2022-12-22        337         79       0  hispanic          0  \n",
              "14316  2022-12-22        380         35       0  hispanic          0  \n",
              "14317  2022-12-23        215        206       0  hispanic          0  \n",
              "14318  2022-12-23        225        201       0  hispanic          0  \n",
              "\n",
              "[14319 rows x 18 columns]"
            ],
            "text/html": [
              "\n",
              "  <div id=\"df-c976f078-9ed1-4a36-80d9-6dcaa0c64eb7\">\n",
              "    <div class=\"colab-df-container\">\n",
              "      <div>\n",
              "<style scoped>\n",
              "    .dataframe tbody tr th:only-of-type {\n",
              "        vertical-align: middle;\n",
              "    }\n",
              "\n",
              "    .dataframe tbody tr th {\n",
              "        vertical-align: top;\n",
              "    }\n",
              "\n",
              "    .dataframe thead th {\n",
              "        text-align: right;\n",
              "    }\n",
              "</style>\n",
              "<table border=\"1\" class=\"dataframe\">\n",
              "  <thead>\n",
              "    <tr style=\"text-align: right;\">\n",
              "      <th></th>\n",
              "      <th>rollnumber</th>\n",
              "      <th>icpsr</th>\n",
              "      <th>cast_code</th>\n",
              "      <th>prob</th>\n",
              "      <th>bioname</th>\n",
              "      <th>district_code</th>\n",
              "      <th>party_code</th>\n",
              "      <th>age elected</th>\n",
              "      <th>economic lib-con</th>\n",
              "      <th>vote_desc</th>\n",
              "      <th>vote_question</th>\n",
              "      <th>vote_result</th>\n",
              "      <th>date</th>\n",
              "      <th>yea_count</th>\n",
              "      <th>nay_count</th>\n",
              "      <th>gender</th>\n",
              "      <th>race</th>\n",
              "      <th>immigrant</th>\n",
              "    </tr>\n",
              "  </thead>\n",
              "  <tbody>\n",
              "    <tr>\n",
              "      <th>0</th>\n",
              "      <td>3</td>\n",
              "      <td>20104.0</td>\n",
              "      <td>yea</td>\n",
              "      <td>100.0</td>\n",
              "      <td>SCHIFF, Adam</td>\n",
              "      <td>28</td>\n",
              "      <td>100</td>\n",
              "      <td>60</td>\n",
              "      <td>-0.350</td>\n",
              "      <td>Adopting the Rules of the House of Representat...</td>\n",
              "      <td>On Motion to Table the Motion to Postpone to a...</td>\n",
              "      <td>1</td>\n",
              "      <td>2021-01-04</td>\n",
              "      <td>214</td>\n",
              "      <td>204</td>\n",
              "      <td>1</td>\n",
              "      <td>white</td>\n",
              "      <td>0</td>\n",
              "    </tr>\n",
              "    <tr>\n",
              "      <th>1</th>\n",
              "      <td>4</td>\n",
              "      <td>20104.0</td>\n",
              "      <td>yea</td>\n",
              "      <td>100.0</td>\n",
              "      <td>SCHIFF, Adam</td>\n",
              "      <td>28</td>\n",
              "      <td>100</td>\n",
              "      <td>60</td>\n",
              "      <td>-0.350</td>\n",
              "      <td>Adopting the Rules of the House of Representat...</td>\n",
              "      <td>Table Motion to Refer</td>\n",
              "      <td>1</td>\n",
              "      <td>2021-01-04</td>\n",
              "      <td>214</td>\n",
              "      <td>196</td>\n",
              "      <td>1</td>\n",
              "      <td>white</td>\n",
              "      <td>0</td>\n",
              "    </tr>\n",
              "    <tr>\n",
              "      <th>2</th>\n",
              "      <td>5</td>\n",
              "      <td>20104.0</td>\n",
              "      <td>yea</td>\n",
              "      <td>100.0</td>\n",
              "      <td>SCHIFF, Adam</td>\n",
              "      <td>28</td>\n",
              "      <td>100</td>\n",
              "      <td>60</td>\n",
              "      <td>-0.350</td>\n",
              "      <td>Adopting the Rules of the House of Representat...</td>\n",
              "      <td>On Ordering the Previous Question</td>\n",
              "      <td>1</td>\n",
              "      <td>2021-01-04</td>\n",
              "      <td>217</td>\n",
              "      <td>204</td>\n",
              "      <td>1</td>\n",
              "      <td>white</td>\n",
              "      <td>0</td>\n",
              "    </tr>\n",
              "    <tr>\n",
              "      <th>3</th>\n",
              "      <td>6</td>\n",
              "      <td>20104.0</td>\n",
              "      <td>nay</td>\n",
              "      <td>100.0</td>\n",
              "      <td>SCHIFF, Adam</td>\n",
              "      <td>28</td>\n",
              "      <td>100</td>\n",
              "      <td>60</td>\n",
              "      <td>-0.350</td>\n",
              "      <td>Adopting the Rules of the House of Representat...</td>\n",
              "      <td>On Motion to Commit with Instructions</td>\n",
              "      <td>0</td>\n",
              "      <td>2021-01-04</td>\n",
              "      <td>203</td>\n",
              "      <td>217</td>\n",
              "      <td>1</td>\n",
              "      <td>white</td>\n",
              "      <td>0</td>\n",
              "    </tr>\n",
              "    <tr>\n",
              "      <th>4</th>\n",
              "      <td>7</td>\n",
              "      <td>20104.0</td>\n",
              "      <td>yea</td>\n",
              "      <td>100.0</td>\n",
              "      <td>SCHIFF, Adam</td>\n",
              "      <td>28</td>\n",
              "      <td>100</td>\n",
              "      <td>60</td>\n",
              "      <td>-0.350</td>\n",
              "      <td>Adopting the Rules of the House of Representat...</td>\n",
              "      <td>On Agreeing to the Resolution</td>\n",
              "      <td>1</td>\n",
              "      <td>2021-01-04</td>\n",
              "      <td>217</td>\n",
              "      <td>206</td>\n",
              "      <td>1</td>\n",
              "      <td>white</td>\n",
              "      <td>0</td>\n",
              "    </tr>\n",
              "    <tr>\n",
              "      <th>...</th>\n",
              "      <td>...</td>\n",
              "      <td>...</td>\n",
              "      <td>...</td>\n",
              "      <td>...</td>\n",
              "      <td>...</td>\n",
              "      <td>...</td>\n",
              "      <td>...</td>\n",
              "      <td>...</td>\n",
              "      <td>...</td>\n",
              "      <td>...</td>\n",
              "      <td>...</td>\n",
              "      <td>...</td>\n",
              "      <td>...</td>\n",
              "      <td>...</td>\n",
              "      <td>...</td>\n",
              "      <td>...</td>\n",
              "      <td>...</td>\n",
              "      <td>...</td>\n",
              "    </tr>\n",
              "    <tr>\n",
              "      <th>14314</th>\n",
              "      <td>991</td>\n",
              "      <td>29903.0</td>\n",
              "      <td>yea</td>\n",
              "      <td>100.0</td>\n",
              "      <td>NAPOLITANO, Grace Flores</td>\n",
              "      <td>32</td>\n",
              "      <td>100</td>\n",
              "      <td>84</td>\n",
              "      <td>-0.448</td>\n",
              "      <td>Native American Langauge Resource Center Act o...</td>\n",
              "      <td>On Motion to Suspend the Rules and Pass</td>\n",
              "      <td>1</td>\n",
              "      <td>2022-12-22</td>\n",
              "      <td>342</td>\n",
              "      <td>71</td>\n",
              "      <td>0</td>\n",
              "      <td>hispanic</td>\n",
              "      <td>0</td>\n",
              "    </tr>\n",
              "    <tr>\n",
              "      <th>14315</th>\n",
              "      <td>992</td>\n",
              "      <td>29903.0</td>\n",
              "      <td>yea</td>\n",
              "      <td>100.0</td>\n",
              "      <td>NAPOLITANO, Grace Flores</td>\n",
              "      <td>32</td>\n",
              "      <td>100</td>\n",
              "      <td>84</td>\n",
              "      <td>-0.448</td>\n",
              "      <td>Durbin Feeling Native American Languages Act o...</td>\n",
              "      <td>On Motion to Suspend the Rules and Pass</td>\n",
              "      <td>1</td>\n",
              "      <td>2022-12-22</td>\n",
              "      <td>337</td>\n",
              "      <td>79</td>\n",
              "      <td>0</td>\n",
              "      <td>hispanic</td>\n",
              "      <td>0</td>\n",
              "    </tr>\n",
              "    <tr>\n",
              "      <th>14316</th>\n",
              "      <td>993</td>\n",
              "      <td>29903.0</td>\n",
              "      <td>yea</td>\n",
              "      <td>99.8</td>\n",
              "      <td>NAPOLITANO, Grace Flores</td>\n",
              "      <td>32</td>\n",
              "      <td>100</td>\n",
              "      <td>84</td>\n",
              "      <td>-0.448</td>\n",
              "      <td>Student Veteran Emergency Relief Act</td>\n",
              "      <td>On Motion to Suspend the Rules and Concur in t...</td>\n",
              "      <td>1</td>\n",
              "      <td>2022-12-22</td>\n",
              "      <td>380</td>\n",
              "      <td>35</td>\n",
              "      <td>0</td>\n",
              "      <td>hispanic</td>\n",
              "      <td>0</td>\n",
              "    </tr>\n",
              "    <tr>\n",
              "      <th>14317</th>\n",
              "      <td>994</td>\n",
              "      <td>29903.0</td>\n",
              "      <td>yea</td>\n",
              "      <td>100.0</td>\n",
              "      <td>NAPOLITANO, Grace Flores</td>\n",
              "      <td>32</td>\n",
              "      <td>100</td>\n",
              "      <td>84</td>\n",
              "      <td>-0.448</td>\n",
              "      <td>Providing for consideration of the Senate amen...</td>\n",
              "      <td>On Agreeing to the Resolution</td>\n",
              "      <td>1</td>\n",
              "      <td>2022-12-23</td>\n",
              "      <td>215</td>\n",
              "      <td>206</td>\n",
              "      <td>0</td>\n",
              "      <td>hispanic</td>\n",
              "      <td>0</td>\n",
              "    </tr>\n",
              "    <tr>\n",
              "      <th>14318</th>\n",
              "      <td>996</td>\n",
              "      <td>29903.0</td>\n",
              "      <td>yea</td>\n",
              "      <td>99.9</td>\n",
              "      <td>NAPOLITANO, Grace Flores</td>\n",
              "      <td>32</td>\n",
              "      <td>100</td>\n",
              "      <td>84</td>\n",
              "      <td>-0.448</td>\n",
              "      <td>To amend section 1115 of title 31, United Stat...</td>\n",
              "      <td>On Motion to Concur in the Senate Adt to the H...</td>\n",
              "      <td>1</td>\n",
              "      <td>2022-12-23</td>\n",
              "      <td>225</td>\n",
              "      <td>201</td>\n",
              "      <td>0</td>\n",
              "      <td>hispanic</td>\n",
              "      <td>0</td>\n",
              "    </tr>\n",
              "  </tbody>\n",
              "</table>\n",
              "<p>14319 rows × 18 columns</p>\n",
              "</div>\n",
              "      <button class=\"colab-df-convert\" onclick=\"convertToInteractive('df-c976f078-9ed1-4a36-80d9-6dcaa0c64eb7')\"\n",
              "              title=\"Convert this dataframe to an interactive table.\"\n",
              "              style=\"display:none;\">\n",
              "        \n",
              "  <svg xmlns=\"http://www.w3.org/2000/svg\" height=\"24px\"viewBox=\"0 0 24 24\"\n",
              "       width=\"24px\">\n",
              "    <path d=\"M0 0h24v24H0V0z\" fill=\"none\"/>\n",
              "    <path d=\"M18.56 5.44l.94 2.06.94-2.06 2.06-.94-2.06-.94-.94-2.06-.94 2.06-2.06.94zm-11 1L8.5 8.5l.94-2.06 2.06-.94-2.06-.94L8.5 2.5l-.94 2.06-2.06.94zm10 10l.94 2.06.94-2.06 2.06-.94-2.06-.94-.94-2.06-.94 2.06-2.06.94z\"/><path d=\"M17.41 7.96l-1.37-1.37c-.4-.4-.92-.59-1.43-.59-.52 0-1.04.2-1.43.59L10.3 9.45l-7.72 7.72c-.78.78-.78 2.05 0 2.83L4 21.41c.39.39.9.59 1.41.59.51 0 1.02-.2 1.41-.59l7.78-7.78 2.81-2.81c.8-.78.8-2.07 0-2.86zM5.41 20L4 18.59l7.72-7.72 1.47 1.35L5.41 20z\"/>\n",
              "  </svg>\n",
              "      </button>\n",
              "      \n",
              "  <style>\n",
              "    .colab-df-container {\n",
              "      display:flex;\n",
              "      flex-wrap:wrap;\n",
              "      gap: 12px;\n",
              "    }\n",
              "\n",
              "    .colab-df-convert {\n",
              "      background-color: #E8F0FE;\n",
              "      border: none;\n",
              "      border-radius: 50%;\n",
              "      cursor: pointer;\n",
              "      display: none;\n",
              "      fill: #1967D2;\n",
              "      height: 32px;\n",
              "      padding: 0 0 0 0;\n",
              "      width: 32px;\n",
              "    }\n",
              "\n",
              "    .colab-df-convert:hover {\n",
              "      background-color: #E2EBFA;\n",
              "      box-shadow: 0px 1px 2px rgba(60, 64, 67, 0.3), 0px 1px 3px 1px rgba(60, 64, 67, 0.15);\n",
              "      fill: #174EA6;\n",
              "    }\n",
              "\n",
              "    [theme=dark] .colab-df-convert {\n",
              "      background-color: #3B4455;\n",
              "      fill: #D2E3FC;\n",
              "    }\n",
              "\n",
              "    [theme=dark] .colab-df-convert:hover {\n",
              "      background-color: #434B5C;\n",
              "      box-shadow: 0px 1px 3px 1px rgba(0, 0, 0, 0.15);\n",
              "      filter: drop-shadow(0px 1px 2px rgba(0, 0, 0, 0.3));\n",
              "      fill: #FFFFFF;\n",
              "    }\n",
              "  </style>\n",
              "\n",
              "      <script>\n",
              "        const buttonEl =\n",
              "          document.querySelector('#df-c976f078-9ed1-4a36-80d9-6dcaa0c64eb7 button.colab-df-convert');\n",
              "        buttonEl.style.display =\n",
              "          google.colab.kernel.accessAllowed ? 'block' : 'none';\n",
              "\n",
              "        async function convertToInteractive(key) {\n",
              "          const element = document.querySelector('#df-c976f078-9ed1-4a36-80d9-6dcaa0c64eb7');\n",
              "          const dataTable =\n",
              "            await google.colab.kernel.invokeFunction('convertToInteractive',\n",
              "                                                     [key], {});\n",
              "          if (!dataTable) return;\n",
              "\n",
              "          const docLinkHtml = 'Like what you see? Visit the ' +\n",
              "            '<a target=\"_blank\" href=https://colab.research.google.com/notebooks/data_table.ipynb>data table notebook</a>'\n",
              "            + ' to learn more about interactive tables.';\n",
              "          element.innerHTML = '';\n",
              "          dataTable['output_type'] = 'display_data';\n",
              "          await google.colab.output.renderOutput(dataTable, element);\n",
              "          const docLink = document.createElement('div');\n",
              "          docLink.innerHTML = docLinkHtml;\n",
              "          element.appendChild(docLink);\n",
              "        }\n",
              "      </script>\n",
              "    </div>\n",
              "  </div>\n",
              "  "
            ]
          },
          "metadata": {},
          "execution_count": 4
        }
      ]
    },
    {
      "cell_type": "markdown",
      "source": [
        "MACHINE LEARNING"
      ],
      "metadata": {
        "id": "RGiIpZnwD0m3"
      }
    },
    {
      "cell_type": "code",
      "source": [
        "# COMPARISON OF SEVERAL DIFFERENT MODELS-- X_train arguments differ\n",
        "\n",
        "from sklearn.pipeline import make_pipeline\n",
        "from sklearn.preprocessing import OneHotEncoder, StandardScaler\n",
        "from sklearn.neighbors import KNeighborsRegressor, KNeighborsClassifier\n",
        "from sklearn.model_selection import cross_val_score\n",
        "from sklearn.feature_extraction.text import TfidfVectorizer\n",
        "from sklearn.compose import make_column_transformer\n",
        "\n",
        "preproc = [(TfidfVectorizer(max_features=100), 'vote_desc'),\n",
        "           (TfidfVectorizer(max_features=100), 'vote_question'),\n",
        "           (StandardScaler(), ['party_code']),\n",
        "           (StandardScaler(), ['economic lib-con']),\n",
        "           (StandardScaler(), ['age elected']),\n",
        "           (StandardScaler(), ['gender']),\n",
        "           (StandardScaler(), ['immigrant']),\n",
        "           (OneHotEncoder(), ['race'])\n",
        "           ]\n",
        "\n",
        "features = ['vote_desc', 'vote_question', 'party_code', 'economic lib-con', 'age elected', 'gender', 'immigrant', 'race']\n",
        "\n",
        "X_train = df_ml[['vote_desc', 'vote_question', 'party_code', 'economic lib-con', 'age elected', 'gender', 'immigrant', 'race']]\n",
        "y_train = df_ml['cast_code']\n",
        "scores=[]\n",
        "\n",
        "for feature in range(1, len(preproc) + 1):\n",
        "  pipeline = make_pipeline(make_column_transformer(\n",
        "      *preproc[: feature],\n",
        "      remainder='drop'),\n",
        "      KNeighborsClassifier(n_neighbors = 5,\n",
        "                           metric='euclidean'))\n",
        "\n",
        "  scores.append(cross_val_score(pipeline,\n",
        "                            X_train,\n",
        "                            y_train,\n",
        "                            scoring='accuracy',\n",
        "                            cv=10).mean())"
      ],
      "metadata": {
        "id": "8_gg--ANUVw4"
      },
      "execution_count": null,
      "outputs": []
    },
    {
      "cell_type": "code",
      "source": [
        "# VISUALIZATION FOR WHAT X ARGS CREATE MOST ACCURATE MODEL\n",
        "\n",
        "print(scores)\n",
        "x_args = pd.DataFrame(scores)\n",
        "acc_plot = x_args.plot(title=\"ACCURACY FOR EACH MODEL ITERATED\", legend=False, color='blue')\n",
        "print(x_args.max())\n",
        "acc_plot.axvline(x=2, color='red')"
      ],
      "metadata": {
        "colab": {
          "base_uri": "https://localhost:8080/",
          "height": 372
        },
        "id": "p3yLIrwgNIEi",
        "outputId": "71ed362a-99b6-4e75-fe5b-5d3581fa4f99"
      },
      "execution_count": null,
      "outputs": [
        {
          "output_type": "stream",
          "name": "stdout",
          "text": [
            "[0.8433558202452479, 0.8935050985949584, 0.981284428203897, 0.9790498889318326, 0.9690637578128356, 0.9509767752362883, 0.8671081089522114, 0.7951051438811005]\n",
            "0    0.981284\n",
            "dtype: float64\n"
          ]
        },
        {
          "output_type": "execute_result",
          "data": {
            "text/plain": [
              "<matplotlib.lines.Line2D at 0x7ff32169f820>"
            ]
          },
          "metadata": {},
          "execution_count": 22
        },
        {
          "output_type": "display_data",
          "data": {
            "text/plain": [
              "<Figure size 432x288 with 1 Axes>"
            ],
            "image/png": "[encoded data removed]"
          },
          "metadata": {
            "needs_background": "light"
          }
        }
      ]
    },
    {
      "cell_type": "code",
      "source": [
        "# PRINTING ARGUMENTS FOR OPTIMAL ACCURACY\n",
        "\n",
        "import numpy as np\n",
        "\n",
        "model_indices = np.argmax(np.asarray((scores)), axis=0)+1\n",
        "features[:model_indices]"
      ],
      "metadata": {
        "colab": {
          "base_uri": "https://localhost:8080/"
        },
        "id": "rVRsO4iq1l66",
        "outputId": "44d8c6d3-b163-4294-b8cc-d9b91033ee16"
      },
      "execution_count": null,
      "outputs": [
        {
          "output_type": "execute_result",
          "data": {
            "text/plain": [
              "['vote_desc', 'vote_question', 'party_code']"
            ]
          },
          "metadata": {},
          "execution_count": 23
        }
      ]
    },
    {
      "cell_type": "markdown",
      "source": [
        "Best x_train arguments are 'vote_desc', 'vote_question', and 'party_code'."
      ],
      "metadata": {
        "id": "mXPX6nfd2g0U"
      }
    },
    {
      "cell_type": "code",
      "source": [
        "# OBTAINING A CROSS VALIDATION SCORE USING OPTIMAL X FEATURE MACHINE LEARNING MODEL \n",
        "\n",
        "X_train = df_ml[['vote_desc', 'vote_question', 'party_code']]\n",
        "y_train = df_ml['cast_code']\n",
        "\n",
        "final_model = make_pipeline(make_column_transformer((TfidfVectorizer(max_features=100), 'vote_desc'),\n",
        "                                                    (TfidfVectorizer(max_features=100), 'vote_question'),\n",
        "                                                    (StandardScaler(), ['party_code'])),\n",
        "                                                    KNeighborsClassifier(n_neighbors = 3,\n",
        "                                                                         metric='manhattan'))\n",
        "\n",
        "cross_val_score(final_model, X_train, y_train,\n",
        "                scoring=\"accuracy\", cv=10).mean()"
      ],
      "metadata": {
        "colab": {
          "base_uri": "https://localhost:8080/"
        },
        "id": "KijNIJcQuUhi",
        "outputId": "e74b5f90-c63e-4814-aa04-be8ed4a3a93a"
      },
      "execution_count": null,
      "outputs": [
        {
          "output_type": "execute_result",
          "data": {
            "text/plain": [
              "0.983588799878196"
            ]
          },
          "metadata": {},
          "execution_count": 24
        }
      ]
    },
    {
      "cell_type": "code",
      "source": [
        "# HYPERPARAMETER TESTING K VALUES AND DISTANCE METRIC\n",
        "\n",
        "from sklearn.model_selection import GridSearchCV\n",
        "\n",
        "grid_cv = GridSearchCV(\n",
        "    final_model,\n",
        "    param_grid={\n",
        "        \"kneighborsclassifier__n_neighbors\": range(1, 10),\n",
        "        \"kneighborsclassifier__metric\": [\"euclidean\", \"manhattan\"],\n",
        "        },\n",
        "        scoring=\"accuracy\", cv=10)\n",
        "\n",
        "grid_cv.fit(X_train, y_train)\n",
        "grid_cv.best_params_"
      ],
      "metadata": {
        "colab": {
          "base_uri": "https://localhost:8080/"
        },
        "id": "mI2obSJ17Wsk",
        "outputId": "fc606ff7-c0cc-4b2d-a6f4-9d2c0e26a5bd"
      },
      "execution_count": null,
      "outputs": [
        {
          "output_type": "execute_result",
          "data": {
            "text/plain": [
              "{'kneighborsclassifier__metric': 'manhattan',\n",
              " 'kneighborsclassifier__n_neighbors': 3}"
            ]
          },
          "metadata": {},
          "execution_count": 25
        }
      ]
    },
    {
      "cell_type": "markdown",
      "source": [
        "ANALYSIS OF FINAL MACHINE LEARNING MODEL"
      ],
      "metadata": {
        "id": "wnHsxrHZED5I"
      }
    },
    {
      "cell_type": "code",
      "source": [
        "from sklearn.metrics import accuracy_score\n",
        "\n",
        "# ESTIMATING TEST ERROR\n",
        "\n",
        "vote_train = df_ml[['vote_desc', 'vote_question', 'party_code', 'cast_code']]\n",
        "train = vote_train.sample(frac=.5)\n",
        "val = vote_train.drop(train.index)\n",
        "\n",
        "X_train = train[['vote_desc', 'vote_question', 'party_code']]\n",
        "y_train = train['cast_code']\n",
        "\n",
        "# validation set \n",
        "X_val = val[['vote_desc', 'vote_question', 'party_code']]\n",
        "y_val = val['cast_code']\n",
        "\n",
        "final_model = make_pipeline(make_column_transformer((TfidfVectorizer(max_features=100), 'vote_desc'),\n",
        "                                                    (TfidfVectorizer(max_features=100), 'vote_question'),\n",
        "                                                    (StandardScaler(), ['party_code'])),\n",
        "                                                    KNeighborsClassifier(n_neighbors = 3,\n",
        "                                                                         metric='manhattan'))\n",
        "\n",
        "# test error \n",
        "final_model.fit(X_train, y_train)\n",
        "y_val_ = final_model.predict(X_val)\n",
        "accuracy_score(y_val, y_val_)"
      ],
      "metadata": {
        "colab": {
          "base_uri": "https://localhost:8080/"
        },
        "id": "RyonQf_hlUak",
        "outputId": "ba9ff8ba-9e1f-4179-f262-81aec377a98f"
      },
      "execution_count": null,
      "outputs": [
        {
          "output_type": "execute_result",
          "data": {
            "text/plain": [
              "0.9692694510406481"
            ]
          },
          "metadata": {},
          "execution_count": 26
        }
      ]
    },
    {
      "cell_type": "code",
      "source": [
        "# CROSS VALIDATION\n",
        "\n",
        "cross_val_score(final_model,\n",
        "                X=df_ml[['vote_desc', 'vote_question', 'party_code']],\n",
        "                y=df_ml['cast_code'],\n",
        "                scoring=\"accuracy\", cv=10).mean()"
      ],
      "metadata": {
        "colab": {
          "base_uri": "https://localhost:8080/"
        },
        "id": "jU32HNiIwd3M",
        "outputId": "a6f00c74-ea9a-4150-ba25-46ada4ca86f8"
      },
      "execution_count": null,
      "outputs": [
        {
          "output_type": "execute_result",
          "data": {
            "text/plain": [
              "0.983588799878196"
            ]
          },
          "metadata": {},
          "execution_count": 27
        }
      ]
    },
    {
      "cell_type": "code",
      "source": [
        "# CONFUSION MATRIX-- make sure to do this on the test set not train set \n",
        "\n",
        "from sklearn.metrics import confusion_matrix\n",
        "\n",
        "y_train.value_counts()\n",
        "final_model.fit(X_train, y_train)\n",
        "y_train_ = final_model.predict(X_train)\n",
        "\n",
        "confusion_matrix(y_train, y_train_)"
      ],
      "metadata": {
        "colab": {
          "base_uri": "https://localhost:8080/"
        },
        "id": "Izknw9S3FkJ8",
        "outputId": "8a3f41bc-86bd-4064-c755-78d6c48254a1"
      },
      "execution_count": null,
      "outputs": [
        {
          "output_type": "execute_result",
          "data": {
            "text/plain": [
              "array([[1000,  102],\n",
              "       [  26, 6032]])"
            ]
          },
          "metadata": {},
          "execution_count": 30
        }
      ]
    },
    {
      "cell_type": "markdown",
      "source": [
        "**PRECISION: TP / (TP + FP)** \n",
        "\n",
        "*YES*: 6032 / (6032 + 102) = 6032 / 6134 = **0.98337137**\n",
        "\n",
        "*NO*: 1000 / (1000 + 26) = 1000 / 1026 = **0.97465887**\n",
        "\n",
        "**RECALL: TP / (TP + FN)**\n",
        "\n",
        "*YES*: 6032 / (6032 + 26) = 6032 / 6058 = **0.99570815**\n",
        "\n",
        "*NO*: 1000 / (1000 + 102) = 1000 / 1102 = **0.90744102**\n",
        "\n",
        "**F1 score: 1 / (1/2)((1/precision) + (1 /recall))**\n",
        "\n",
        "*YES*: 1 / (1/2)((1/0.98337137) + (1 /0.99570815)) = **0.98951118**\n",
        "\n",
        "*NO*: 1 / (1/2)((1/0.97465887) + (1 /0.90744102)) = **0.93984962**"
      ],
      "metadata": {
        "id": "AUmRe1PNIxhk"
      }
    },
    {
      "cell_type": "markdown",
      "source": [
        "Relatively high trustiness of machine learning model as seen by high F1 scores."
      ],
      "metadata": {
        "id": "iotSvBLii1Yt"
      }
    }
  ]
}